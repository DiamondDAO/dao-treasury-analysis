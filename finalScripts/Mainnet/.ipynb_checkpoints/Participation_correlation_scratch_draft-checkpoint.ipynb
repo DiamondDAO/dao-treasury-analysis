{
 "cells": [
  {
   "cell_type": "code",
   "execution_count": 1,
   "id": "77d7b698-dc5e-467b-97d9-1c0f49e2fd90",
   "metadata": {},
   "outputs": [],
   "source": [
    "import json\n",
    "import os\n",
    "import time\n",
    "import requests"
   ]
  },
  {
   "cell_type": "code",
   "execution_count": 4,
   "id": "51d5e213-6913-4d12-91e7-23736b46ada9",
   "metadata": {},
   "outputs": [],
   "source": [
    "import psycopg2\n",
    "\n",
    "database_dict = {\n",
    "        \"database\": os.environ.get(\"POSTGRES_DB\"),\n",
    "        \"user\": os.environ.get(\"POSTGRES_USERNAME\"),\n",
    "        \"password\": os.environ.get(\"POSTGRES_PASSWORD\"),\n",
    "        \"host\": os.environ.get(\"POSTGRES_WRITER\"),\n",
    "        \"port\": os.environ.get(\"POSTGRES_PORT\"),\n",
    "    }\n",
    "engine = psycopg2.connect(**database_dict)\n",
    "cur = engine.cursor()\n",
    "\n",
    "def get_all_proposals(cur, engine):\n",
    "    execute_string = f\"SELECT * FROM daohaus.proposal\"\n",
    "    cur.execute(execute_string)\n",
    "    records = cur.fetchall()\n",
    "    js = [];\n",
    "    for x in records:\n",
    "        js.append(x)\n",
    "    return js\n",
    "\n",
    "def get_all_members(cur, engine):\n",
    "    execute_string = f\"SELECT * FROM daohaus.member\"\n",
    "    cur.execute(execute_string)\n",
    "    records = cur.fetchall()\n",
    "    js = [];\n",
    "    for x in records:\n",
    "        curl = []\n",
    "        curl.append(x[1])\n",
    "        curl.append(x[6])\n",
    "        js.append(curl)\n",
    "    return js\n",
    "\n",
    "proposals = get_all_proposals(cur, engine)"
   ]
  },
  {
   "cell_type": "code",
   "execution_count": 6,
   "id": "cd77a967-4da4-4ce5-81ab-2237bc2bf9b3",
   "metadata": {},
   "outputs": [
    {
     "data": {
      "text/plain": [
       "'0x31e99699bccde902afc7c4b6b23bb322b8459d22'"
      ]
     },
     "execution_count": 6,
     "metadata": {},
     "output_type": "execute_result"
    }
   ],
   "source": [
    "proposals[0][6]"
   ]
  },
  {
   "cell_type": "code",
   "execution_count": null,
   "id": "91b8d3f4-fc53-4186-845b-d7ffa8d05cb8",
   "metadata": {},
   "outputs": [],
   "source": []
  }
 ],
 "metadata": {
  "kernelspec": {
   "display_name": "Python 3 (ipykernel)",
   "language": "python",
   "name": "python3"
  },
  "language_info": {
   "codemirror_mode": {
    "name": "ipython",
    "version": 3
   },
   "file_extension": ".py",
   "mimetype": "text/x-python",
   "name": "python",
   "nbconvert_exporter": "python",
   "pygments_lexer": "ipython3",
   "version": "3.8.11"
  }
 },
 "nbformat": 4,
 "nbformat_minor": 5
}
